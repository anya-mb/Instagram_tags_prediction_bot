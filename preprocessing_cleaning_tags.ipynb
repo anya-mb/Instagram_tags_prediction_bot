{
 "cells": [
  {
   "cell_type": "code",
   "execution_count": 4,
   "metadata": {},
   "outputs": [],
   "source": [
    "from os import listdir\n",
    "from os.path import isfile, join\n",
    "import json\n",
    "import os\n",
    "import time\n",
    "import matplotlib.pyplot as plt \n",
    "import pandas as pd\n",
    "import subprocess\n",
    "\n",
    "import torch\n",
    "import torch.nn as nn\n",
    "import cv2\n",
    "import matplotlib.pyplot as plt\n",
    "import torchvision\n",
    "from torch.utils.data import Dataset, DataLoader, ConcatDataset\n",
    "from torchvision import transforms\n",
    "import numpy as np\n",
    "import tqdm\n",
    "from PIL import Image\n",
    "import pickle\n",
    "\n",
    "import warnings\n",
    "warnings.filterwarnings(\"ignore\")\n",
    "\n",
    "from collections import Counter\n",
    "from copy import deepcopy\n",
    "from collections import OrderedDict"
   ]
  },
  {
   "cell_type": "code",
   "execution_count": 2,
   "metadata": {},
   "outputs": [],
   "source": [
    "%matplotlib inline"
   ]
  },
  {
   "cell_type": "code",
   "execution_count": 5,
   "metadata": {},
   "outputs": [
    {
     "data": {
      "text/plain": [
       "'photos_for_train'"
      ]
     },
     "execution_count": 5,
     "metadata": {},
     "output_type": "execute_result"
    }
   ],
   "source": [
    "project_path = '' #'drive/My Drive/InstaDump'\n",
    "\n",
    "train_jsons = join(project_path, \"train_jsons\")\n",
    "val_jsons = join(project_path, \"val_jsons\")\n",
    "photos_for_train = join(project_path, 'photos_for_train')\n",
    "\n",
    "models_path = join(project_path, 'models_path')\n",
    "\n",
    "photos_for_train"
   ]
  },
  {
   "cell_type": "code",
   "execution_count": 6,
   "metadata": {},
   "outputs": [
    {
     "data": {
      "text/plain": [
       "(['n0v1_74n', 'vibrationoflight', 'liliannastina'], 763)"
      ]
     },
     "execution_count": 6,
     "metadata": {},
     "output_type": "execute_result"
    }
   ],
   "source": [
    "checked_username = [a[:-5] for a in listdir(train_jsons)]\n",
    "checked_username[:3], len(checked_username)"
   ]
  },
  {
   "cell_type": "code",
   "execution_count": 8,
   "metadata": {},
   "outputs": [],
   "source": [
    "name = checked_username[0]\n",
    "\n",
    "with open(join(train_jsons, f\"{name}.json\"), 'r') as f:\n",
    "    username_info = json.loads(f.read()) "
   ]
  },
  {
   "cell_type": "code",
   "execution_count": 9,
   "metadata": {},
   "outputs": [
    {
     "data": {
      "text/plain": [
       "dict_keys(['tags', 'post_time', 'likes_number', 'photo_file_path'])"
      ]
     },
     "execution_count": 9,
     "metadata": {},
     "output_type": "execute_result"
    }
   ],
   "source": [
    "username_info.keys()"
   ]
  },
  {
   "cell_type": "code",
   "execution_count": 16,
   "metadata": {},
   "outputs": [
    {
     "name": "stderr",
     "output_type": "stream",
     "text": [
      "100%|██████████| 763/763 [00:00<00:00, 3096.58it/s]"
     ]
    },
    {
     "name": "stdout",
     "output_type": "stream",
     "text": [
      "CPU times: user 226 ms, sys: 23.7 ms, total: 250 ms\n",
      "Wall time: 249 ms\n"
     ]
    },
    {
     "name": "stderr",
     "output_type": "stream",
     "text": [
      "\n"
     ]
    }
   ],
   "source": [
    "%%time\n",
    "\n",
    "tags_set = set()\n",
    "all_tags_list = []\n",
    "\n",
    "for name in tqdm.tqdm(checked_username):\n",
    "\n",
    "    with open(f'{train_jsons}/{name}.json', 'r') as f:\n",
    "        used_usernames_train = json.loads(f.read())\n",
    "        \n",
    "    with open(f'{val_jsons}/{name}.json', 'r') as f:\n",
    "        used_usernames_val = json.loads(f.read())\n",
    "\n",
    "    for tag_list in used_usernames_train[\"tags\"]:\n",
    "        tags_set.update(tag_list)\n",
    "        all_tags_list.extend(tag_list)\n",
    "        \n",
    "    for tag_list in used_usernames_val[\"tags\"]:\n",
    "        tags_set.update(tag_list)\n",
    "        all_tags_list.extend(tag_list)"
   ]
  },
  {
   "cell_type": "code",
   "execution_count": 25,
   "metadata": {},
   "outputs": [
    {
     "data": {
      "text/plain": [
       "[109, 100, 18, 3, 3, 18, 13, 109, 113]"
      ]
     },
     "execution_count": 25,
     "metadata": {},
     "output_type": "execute_result"
    }
   ],
   "source": [
    "tag_list"
   ]
  },
  {
   "cell_type": "code",
   "execution_count": 17,
   "metadata": {},
   "outputs": [
    {
     "data": {
      "text/plain": [
       "(805346, 253)"
      ]
     },
     "execution_count": 17,
     "metadata": {},
     "output_type": "execute_result"
    }
   ],
   "source": [
    "len(all_tags_list), len(tags_set)"
   ]
  },
  {
   "cell_type": "code",
   "execution_count": 21,
   "metadata": {},
   "outputs": [
    {
     "data": {
      "text/plain": [
       "253"
      ]
     },
     "execution_count": 21,
     "metadata": {},
     "output_type": "execute_result"
    }
   ],
   "source": [
    "with open(join(project_path, \"tag2idx_245.json\"), 'r') as f:\n",
    "    tag2idx = json.loads(f.read()) \n",
    "\n",
    "idx2tag = {}\n",
    "\n",
    "for k, v in tag2idx.items():\n",
    "    idx2tag[v] = k\n",
    "\n",
    "len(tag2idx.keys())"
   ]
  },
  {
   "cell_type": "code",
   "execution_count": 22,
   "metadata": {},
   "outputs": [
    {
     "name": "stderr",
     "output_type": "stream",
     "text": [
      "100%|██████████| 805346/805346 [00:00<00:00, 1616987.54it/s]\n"
     ]
    },
    {
     "data": {
      "text/plain": [
       "0"
      ]
     },
     "execution_count": 22,
     "metadata": {},
     "output_type": "execute_result"
    }
   ],
   "source": [
    "tag_freq_dict = Counter()\n",
    "\n",
    "for tag_idx in tqdm.tqdm(all_tags_list):\n",
    "    tag_freq_dict[idx2tag[tag_idx]] += 1\n",
    "\n",
    "tag_freq_dict[\"love\"]"
   ]
  },
  {
   "cell_type": "code",
   "execution_count": 23,
   "metadata": {},
   "outputs": [
    {
     "data": {
      "text/plain": [
       "Counter({'ab': 691,\n",
       "         'accent': 834,\n",
       "         'actres': 418,\n",
       "         'all_shot': 3669,\n",
       "         'amateur': 1641,\n",
       "         'american': 1233,\n",
       "         'amstaffs': 20,\n",
       "         'animal': 2956,\n",
       "         'animallover': 1163,\n",
       "         'animegirl': 562,\n",
       "         'app': 717,\n",
       "         'architecture': 3583,\n",
       "         'art': 20314,\n",
       "         'artist': 3913,\n",
       "         'asiangirl': 157,\n",
       "         'babie': 1083,\n",
       "         'babies': 2288,\n",
       "         'baby': 4808,\n",
       "         'bak': 1168,\n",
       "         'balkan': 558,\n",
       "         'beam': 63,\n",
       "         'beautifuldestination': 1679,\n",
       "         'beautifulplace': 901,\n",
       "         'bestvacation': 1107,\n",
       "         'bird': 1101,\n",
       "         'blackandwhite': 4232,\n",
       "         'bodybuild': 2696,\n",
       "         'book': 1176,\n",
       "         'boot': 1176,\n",
       "         'bos': 687,\n",
       "         'box': 330,\n",
       "         'boy': 2186,\n",
       "         'build': 763,\n",
       "         'busines': 1750,\n",
       "         'cake': 5078,\n",
       "         'camp': 595,\n",
       "         'candle': 231,\n",
       "         'canon': 3650,\n",
       "         'car': 1431,\n",
       "         'cat': 4822,\n",
       "         'catlover': 791,\n",
       "         'cats': 1315,\n",
       "         'chailover': 1023,\n",
       "         'childrensbook': 596,\n",
       "         'christmas': 5609,\n",
       "         'cloth': 1310,\n",
       "         'clothe': 2524,\n",
       "         'cloud': 3160,\n",
       "         'coach': 839,\n",
       "         'color': 4022,\n",
       "         'colour': 2285,\n",
       "         'conservative': 7026,\n",
       "         'conservativememe': 1091,\n",
       "         'cook': 939,\n",
       "         'cool': 11906,\n",
       "         'couplegoal': 415,\n",
       "         'crystal': 539,\n",
       "         'cupcake': 1039,\n",
       "         'dankmeme': 4806,\n",
       "         'democrat': 2916,\n",
       "         'deporte': 2092,\n",
       "         'dessert': 4394,\n",
       "         'detail': 552,\n",
       "         'dog': 5338,\n",
       "         'dogs': 3807,\n",
       "         'draw': 2680,\n",
       "         'drawing': 757,\n",
       "         'drink': 821,\n",
       "         'earring': 551,\n",
       "         'eat': 2002,\n",
       "         'emotion': 859,\n",
       "         'epicmeme': 534,\n",
       "         'essentialoil': 22,\n",
       "         'eye': 1251,\n",
       "         'fact': 635,\n",
       "         'fakenew': 901,\n",
       "         'famous': 1559,\n",
       "         'fashion': 39153,\n",
       "         'fashionista': 3488,\n",
       "         'fashionstylist': 1053,\n",
       "         'fish': 720,\n",
       "         'fit': 6359,\n",
       "         'fitnes': 10514,\n",
       "         'fitnessmodel': 2498,\n",
       "         'flipflop': 931,\n",
       "         'flower': 5061,\n",
       "         'flowers': 910,\n",
       "         'food': 26882,\n",
       "         'foodie': 8740,\n",
       "         'foodpic': 3220,\n",
       "         'foto': 3250,\n",
       "         'frame': 908,\n",
       "         'francemontagne': 606,\n",
       "         'freefitnes': 463,\n",
       "         'friend': 11815,\n",
       "         'funnymeme': 2642,\n",
       "         'funnyvid': 701,\n",
       "         'funnyvideo': 910,\n",
       "         'gain': 841,\n",
       "         'garden': 3927,\n",
       "         'gay': 932,\n",
       "         'gelnail': 1342,\n",
       "         'giant': 576,\n",
       "         'girl': 15560,\n",
       "         'go': 3843,\n",
       "         'goal': 1970,\n",
       "         'goodmorn': 3141,\n",
       "         'goodtime': 1071,\n",
       "         'goodvibe': 2272,\n",
       "         'greece': 2458,\n",
       "         'greekisland': 616,\n",
       "         'grill': 676,\n",
       "         'gun': 949,\n",
       "         'hair': 4397,\n",
       "         'hairpiece': 290,\n",
       "         'hairstyle': 2048,\n",
       "         'happines': 3202,\n",
       "         'happy': 25224,\n",
       "         'heal': 945,\n",
       "         'health': 3942,\n",
       "         'heel': 1236,\n",
       "         'holiday': 7396,\n",
       "         'home': 2587,\n",
       "         'homecook': 530,\n",
       "         'illustration': 1853,\n",
       "         'indianfoodblogger': 55,\n",
       "         'interior': 1998,\n",
       "         'island': 1101,\n",
       "         'jean': 1226,\n",
       "         'jewelry': 2290,\n",
       "         'joke': 865,\n",
       "         'kick': 988,\n",
       "         'kid': 3229,\n",
       "         'kids': 1235,\n",
       "         'lago': 1336,\n",
       "         'landscape': 11172,\n",
       "         'landscape_lover': 869,\n",
       "         'leg': 1003,\n",
       "         'liberal': 1807,\n",
       "         'light': 1755,\n",
       "         'lip': 565,\n",
       "         'look': 6266,\n",
       "         'lover': 561,\n",
       "         'luxuryhome': 878,\n",
       "         'macaron': 942,\n",
       "         'mama': 606,\n",
       "         'market': 526,\n",
       "         'meme': 10970,\n",
       "         'memorie': 1044,\n",
       "         'mimysglamanddesign': 630,\n",
       "         'mobile': 959,\n",
       "         'model': 9718,\n",
       "         'moment': 3790,\n",
       "         'montagne': 586,\n",
       "         'moodygram': 720,\n",
       "         'mormon': 2039,\n",
       "         'morn': 2803,\n",
       "         'mountain': 3102,\n",
       "         'movie': 600,\n",
       "         'muscle': 2721,\n",
       "         'mushroom': 695,\n",
       "         'nail': 3555,\n",
       "         'nails': 583,\n",
       "         'nature': 35155,\n",
       "         'naturelover': 6844,\n",
       "         'new': 4003,\n",
       "         'newarrival': 691,\n",
       "         'nicekick': 840,\n",
       "         'nikon': 3645,\n",
       "         'organico': 568,\n",
       "         'outdoor': 2757,\n",
       "         'outfit': 4472,\n",
       "         'paint': 3563,\n",
       "         'painting': 657,\n",
       "         'patriot': 1879,\n",
       "         'personalisedgift': 1730,\n",
       "         'pet': 3584,\n",
       "         'pets': 1231,\n",
       "         'photographer': 7748,\n",
       "         'photographylover': 3179,\n",
       "         'pic': 11183,\n",
       "         'picture': 3387,\n",
       "         'pillow': 857,\n",
       "         'plant': 3182,\n",
       "         'plants': 1264,\n",
       "         'platania': 961,\n",
       "         'politic': 8553,\n",
       "         'politicalmeme': 1573,\n",
       "         'portrait': 4476,\n",
       "         'print': 1860,\n",
       "         'promotionalproduct': 422,\n",
       "         'relationship': 808,\n",
       "         'relax': 1676,\n",
       "         'republican': 7769,\n",
       "         'rose': 967,\n",
       "         'rowberry': 910,\n",
       "         'salwarsuit': 6,\n",
       "         'sandal': 999,\n",
       "         'selfie': 12318,\n",
       "         'seriado': 1328,\n",
       "         'serie': 1404,\n",
       "         'series': 665,\n",
       "         'shirt': 1169,\n",
       "         'shoe': 3919,\n",
       "         'shoot': 1243,\n",
       "         'shopping': 5154,\n",
       "         'size': 613,\n",
       "         'smile': 18717,\n",
       "         'sneaker': 2052,\n",
       "         'sneakerhead': 1848,\n",
       "         'spongebobmeme': 1106,\n",
       "         'sport': 9161,\n",
       "         'sports': 1065,\n",
       "         'story': 1416,\n",
       "         'street': 6716,\n",
       "         'styl': 1057,\n",
       "         'style': 24646,\n",
       "         'succes': 1434,\n",
       "         'succulent': 1680,\n",
       "         'summervibe': 385,\n",
       "         'sunset': 6599,\n",
       "         'surf': 3827,\n",
       "         'thought': 402,\n",
       "         'toptag': 490,\n",
       "         'toy': 2061,\n",
       "         'train': 2469,\n",
       "         'trainer': 952,\n",
       "         'travel': 40189,\n",
       "         'traveling': 532,\n",
       "         'tree': 3171,\n",
       "         'trekking': 606,\n",
       "         'trend': 4350,\n",
       "         'trumpmeme': 1390,\n",
       "         'tvserie': 694,\n",
       "         'van': 98,\n",
       "         'vibe': 1674,\n",
       "         'video': 534,\n",
       "         'village': 1289,\n",
       "         'vintage': 4374,\n",
       "         'warrior': 863,\n",
       "         'wave': 1765,\n",
       "         'wedd': 3301,\n",
       "         'wedding': 1151,\n",
       "         'wedge': 739,\n",
       "         'weightlos': 706,\n",
       "         'wellnes': 480,\n",
       "         'wildlife': 1908,\n",
       "         'winn': 722,\n",
       "         'wonderful_place': 538,\n",
       "         'wonderfulplace': 923,\n",
       "         'world': 2025,\n",
       "         'youngconservative': 866,\n",
       "         'yycnail': 391})"
      ]
     },
     "execution_count": 23,
     "metadata": {},
     "output_type": "execute_result"
    }
   ],
   "source": [
    "tag_freq_dict"
   ]
  },
  {
   "cell_type": "code",
   "execution_count": 199,
   "metadata": {},
   "outputs": [],
   "source": [
    "smaller_tag_freq_dict = deepcopy(tag_freq_dict)"
   ]
  },
  {
   "cell_type": "code",
   "execution_count": 200,
   "metadata": {},
   "outputs": [],
   "source": [
    "senseless_words = ['canon', 'foto', 'francemontagne', 'funnyvid', 'funnyvideo', 'goodmorn', 'goodtime',\n",
    "                  'goodvibe', 'greece', 'greekisland', 'heal', 'indianfoodblogger', 'island', 'landscape_lover',\n",
    "                   'animallover', 'memorie', 'mama', 'mimysglamanddesign', 'mobile', 'moment', 'montagne',\n",
    "                  'moodygram', 'movie', 'nikon', 'personalisedgift', 'photographer', 'photographylover', 'mormon',\n",
    "                  'pic', 'picture', 'platania', 'rowberry', 'salwarsuit', 'seriado', 'size', 'spongebobmeme',\n",
    "                  'story', 'summervibe', 'thought', 'toptag', 'van', 'vibe', 'video', 'wedge', 'winn', 'print',\n",
    "                   'wonderful_place', 'wonderfulplace', 'world', 'cool', 'newarrival', 'chailover', 'lago',\n",
    "                  'happines', 'happy', 'all_shot', 'morn', 'couplegoal', 'goal', 'beautifuldestination',\n",
    "                  'beautifulplace', 'succes', 'amateur', 'bestvacation', 'nice']"
   ]
  },
  {
   "cell_type": "code",
   "execution_count": 202,
   "metadata": {},
   "outputs": [],
   "source": [
    "converter = {'ab': 'abs', 'actres': 'actress', 'animegirl': ['anime', 'girl'], \"asiangirl\": [\"asian\", 'girl'],\n",
    "             'babies': 'baby', 'babie': 'baby', 'bak': 'baking', 'cook': ['cook', 'food'],\n",
    "             'democrat': ['politic', 'democrat'],\n",
    "             'bodybuild': 'bodybuilding', 'bos':'boss',\n",
    "             'busines': 'business', 'cats': ['cat', 'pet'], 'cat': ['cat', 'pet'], \n",
    "             'cloth': 'clothe', 'colour': 'color', 'dog': ['dog', 'pet'],\n",
    "             'conservativememe': ['conservative', 'conservativememe', 'meme', 'politic'],\n",
    "             'cupcake': ['cupcake', 'cake'], 'dankmeme': ['dankmeme', 'meme'], 'dogs': ['dog', 'pet'],\n",
    "             'draw': ['drawing', 'illustration'], 'drawing': ['drawing', 'illustration'],\n",
    "             'epicmeme': ['funny', 'meme'], 'fakenew': ['fakenew', 'new'],\n",
    "             'fashionista': 'fashion', 'fashionstylist' :['fashionstylist', 'style'],\n",
    "             'fitnes': 'fitness', 'fitnessmodel': ['fitness', 'model'],\n",
    "             'flowers': 'flower', 'foodpic': 'food', 'freefitnes': ['freefitness', 'fitness'],\n",
    "             'funnymeme': [\"funny\", 'meme'], 'gelnail': 'nail', 'hairpiece': 'hair', \n",
    "             'hairstyle': ['hair', 'style'], 'homecook': ['home', 'cook', 'food'], 'jean': 'jeans',\n",
    "             'kids' : 'kid', 'luxuryhome': ['luxury', 'home'], 'nails': 'nail', 'naturelover': 'nature',\n",
    "             'animallover': 'animal', 'landscape_lover': 'landscape', 'nicekick': 'kick',\n",
    "             'paint': 'painting', 'pets': 'pet', 'plants': 'plant', 'politicalmeme': ['politic', 'meme'],\n",
    "             'series': 'serie', 'sports': 'sport', 'styl': 'style', 'trainer': 'train',\n",
    "             'traveling': 'travel', 'trumpmeme': [\"trumpmeme\", 'meme', 'politic'], 'tvserie': 'serie', \n",
    "             'wedd': ['wedding', 'love'], 'wedding': ['wedding', 'love'], 'relationship': 'love',\n",
    "             'weightlos': ['weightloss', 'sport'], 'wellnes' : 'sport', 'wildlife': ['wildlife', 'nature'], \n",
    "             'yycnail': 'nail', 'catlover': 'cat', 'macaron': ['macaron', 'food'], 'portrait': ['portrait', 'selfie'],\n",
    "             'eat': 'food', 'childrensbook': 'kid', 'patriot': ['patriot', 'politic'], 'foodie': 'food'\n",
    "             }"
   ]
  },
  {
   "cell_type": "code",
   "execution_count": 203,
   "metadata": {},
   "outputs": [
    {
     "data": {
      "text/plain": [
       "805346"
      ]
     },
     "execution_count": 203,
     "metadata": {},
     "output_type": "execute_result"
    }
   ],
   "source": [
    "len(all_tags_list)"
   ]
  },
  {
   "cell_type": "code",
   "execution_count": 204,
   "metadata": {},
   "outputs": [
    {
     "name": "stderr",
     "output_type": "stream",
     "text": [
      "100%|██████████| 805346/805346 [00:00<00:00, 846881.37it/s]"
     ]
    },
    {
     "name": "stdout",
     "output_type": "stream",
     "text": [
      "728165\n"
     ]
    },
    {
     "name": "stderr",
     "output_type": "stream",
     "text": [
      "\n"
     ]
    }
   ],
   "source": [
    "converted_all_tags_list = []\n",
    "\n",
    "for idx_tag in tqdm.tqdm(all_tags_list):\n",
    "    tag = idx2tag[idx_tag]\n",
    "    \n",
    "    if tag in senseless_words:\n",
    "        continue\n",
    "    \n",
    "    if tag in converter:\n",
    "        converted = converter[tag]\n",
    "        \n",
    "        if type(converted) == str:\n",
    "            converted_all_tags_list.append(converted)\n",
    "        else:\n",
    "            converted_all_tags_list.extend(converted)\n",
    "    else:\n",
    "        converted_all_tags_list.append(tag)\n",
    "        \n",
    "        \n",
    "print(len(converted_all_tags_list))"
   ]
  },
  {
   "cell_type": "code",
   "execution_count": 205,
   "metadata": {},
   "outputs": [
    {
     "data": {
      "text/plain": [
       "'dogs'"
      ]
     },
     "execution_count": 205,
     "metadata": {},
     "output_type": "execute_result"
    }
   ],
   "source": [
    "idx2tag[idx_tag]"
   ]
  },
  {
   "cell_type": "code",
   "execution_count": 206,
   "metadata": {},
   "outputs": [
    {
     "data": {
      "text/plain": [
       "['home', 'cook', 'food']"
      ]
     },
     "execution_count": 206,
     "metadata": {},
     "output_type": "execute_result"
    }
   ],
   "source": [
    "converted_all_tags_list[2:5]"
   ]
  },
  {
   "cell_type": "code",
   "execution_count": 207,
   "metadata": {},
   "outputs": [
    {
     "name": "stderr",
     "output_type": "stream",
     "text": [
      "100%|██████████| 728165/728165 [00:00<00:00, 1726147.56it/s]\n"
     ]
    },
    {
     "data": {
      "text/plain": [
       "43907"
      ]
     },
     "execution_count": 207,
     "metadata": {},
     "output_type": "execute_result"
    }
   ],
   "source": [
    "smaller_tag_freq_dict = Counter()\n",
    "\n",
    "for tag in tqdm.tqdm(converted_all_tags_list):\n",
    "    smaller_tag_freq_dict[tag] += 1\n",
    "\n",
    "smaller_tag_freq_dict[\"nature\"]"
   ]
  },
  {
   "cell_type": "code",
   "execution_count": 208,
   "metadata": {},
   "outputs": [
    {
     "data": {
      "text/plain": [
       "152"
      ]
     },
     "execution_count": 208,
     "metadata": {},
     "output_type": "execute_result"
    }
   ],
   "source": [
    "len(smaller_tag_freq_dict)"
   ]
  },
  {
   "cell_type": "code",
   "execution_count": 209,
   "metadata": {},
   "outputs": [
    {
     "data": {
      "text/plain": [
       "True"
      ]
     },
     "execution_count": 209,
     "metadata": {},
     "output_type": "execute_result"
    }
   ],
   "source": [
    "'love' in smaller_tag_freq_dict"
   ]
  },
  {
   "cell_type": "code",
   "execution_count": 210,
   "metadata": {},
   "outputs": [
    {
     "data": {
      "text/plain": [
       "[('nature', 43907),\n",
       " ('food', 43255),\n",
       " ('fashion', 42641),\n",
       " ('travel', 40721),\n",
       " ('style', 28804),\n",
       " ('meme', 23006),\n",
       " ('art', 20314),\n",
       " ('pet', 20097),\n",
       " ('smile', 18717),\n",
       " ('politic', 17402),\n",
       " ('selfie', 16794),\n",
       " ('girl', 16279),\n",
       " ('fitness', 13475),\n",
       " ('model', 12216),\n",
       " ('friend', 11815),\n",
       " ('sport', 11412),\n",
       " ('landscape', 11172),\n",
       " ('dog', 9145),\n",
       " ('baby', 8179),\n",
       " ('conservative', 8117),\n",
       " ('republican', 7769),\n",
       " ('holiday', 7396),\n",
       " ('cat', 6928),\n",
       " ('hair', 6735),\n",
       " ('street', 6716),\n",
       " ('sunset', 6599),\n",
       " ('fit', 6359),\n",
       " ('color', 6307),\n",
       " ('look', 6266),\n",
       " ('cake', 6117),\n",
       " ('flower', 5971),\n",
       " ('nail', 5871),\n",
       " ('christmas', 5609),\n",
       " ('illustration', 5290),\n",
       " ('love', 5260),\n",
       " ('shopping', 5154),\n",
       " ('kid', 5060),\n",
       " ('new', 4904),\n",
       " ('dankmeme', 4806),\n",
       " ('portrait', 4476),\n",
       " ('outfit', 4472),\n",
       " ('wedding', 4452),\n",
       " ('plant', 4446),\n",
       " ('dessert', 4394),\n",
       " ('vintage', 4374),\n",
       " ('trend', 4350),\n",
       " ('blackandwhite', 4232),\n",
       " ('painting', 4220),\n",
       " ('home', 3995),\n",
       " ('health', 3942),\n",
       " ('garden', 3927),\n",
       " ('shoe', 3919),\n",
       " ('artist', 3913),\n",
       " ('go', 3843),\n",
       " ('clothe', 3834),\n",
       " ('surf', 3827),\n",
       " ('architecture', 3583),\n",
       " ('drawing', 3437),\n",
       " ('train', 3421),\n",
       " ('funny', 3176),\n",
       " ('tree', 3171),\n",
       " ('cloud', 3160),\n",
       " ('mountain', 3102),\n",
       " ('animal', 2956),\n",
       " ('democrat', 2916),\n",
       " ('serie', 2763),\n",
       " ('outdoor', 2757),\n",
       " ('muscle', 2721),\n",
       " ('bodybuilding', 2696),\n",
       " ('jewelry', 2290),\n",
       " ('boy', 2186),\n",
       " ('deporte', 2092),\n",
       " ('toy', 2061),\n",
       " ('sneaker', 2052),\n",
       " ('interior', 1998),\n",
       " ('wildlife', 1908),\n",
       " ('patriot', 1879),\n",
       " ('sneakerhead', 1848),\n",
       " ('kick', 1828),\n",
       " ('liberal', 1807),\n",
       " ('wave', 1765),\n",
       " ('light', 1755),\n",
       " ('business', 1750),\n",
       " ('succulent', 1680),\n",
       " ('relax', 1676),\n",
       " ('famous', 1559),\n",
       " ('cook', 1469),\n",
       " ('car', 1431),\n",
       " ('trumpmeme', 1390),\n",
       " ('village', 1289),\n",
       " ('eye', 1251),\n",
       " ('shoot', 1243),\n",
       " ('heel', 1236),\n",
       " ('american', 1233),\n",
       " ('jeans', 1226),\n",
       " ('book', 1176),\n",
       " ('boot', 1176),\n",
       " ('shirt', 1169),\n",
       " ('baking', 1168),\n",
       " ('bird', 1101),\n",
       " ('conservativememe', 1091),\n",
       " ('fashionstylist', 1053),\n",
       " ('cupcake', 1039),\n",
       " ('leg', 1003),\n",
       " ('sandal', 999),\n",
       " ('rose', 967),\n",
       " ('gun', 949),\n",
       " ('macaron', 942),\n",
       " ('gay', 932),\n",
       " ('flipflop', 931),\n",
       " ('frame', 908),\n",
       " ('fakenew', 901),\n",
       " ('luxury', 878),\n",
       " ('youngconservative', 866),\n",
       " ('joke', 865),\n",
       " ('warrior', 863),\n",
       " ('emotion', 859),\n",
       " ('pillow', 857),\n",
       " ('gain', 841),\n",
       " ('coach', 839),\n",
       " ('accent', 834),\n",
       " ('drink', 821),\n",
       " ('build', 763),\n",
       " ('fish', 720),\n",
       " ('app', 717),\n",
       " ('weightloss', 706),\n",
       " ('mushroom', 695),\n",
       " ('abs', 691),\n",
       " ('boss', 687),\n",
       " ('grill', 676),\n",
       " ('fact', 635),\n",
       " ('trekking', 606),\n",
       " ('camp', 595),\n",
       " ('giant', 576),\n",
       " ('organico', 568),\n",
       " ('lip', 565),\n",
       " ('anime', 562),\n",
       " ('lover', 561),\n",
       " ('balkan', 558),\n",
       " ('detail', 552),\n",
       " ('earring', 551),\n",
       " ('crystal', 539),\n",
       " ('market', 526),\n",
       " ('freefitness', 463),\n",
       " ('promotionalproduct', 422),\n",
       " ('actress', 418),\n",
       " ('box', 330),\n",
       " ('candle', 231),\n",
       " ('asian', 157),\n",
       " ('beam', 63),\n",
       " ('essentialoil', 22),\n",
       " ('amstaffs', 20)]"
      ]
     },
     "execution_count": 210,
     "metadata": {},
     "output_type": "execute_result"
    }
   ],
   "source": [
    "smaller_tag_freq_dict.most_common(300)"
   ]
  },
  {
   "cell_type": "code",
   "execution_count": 211,
   "metadata": {},
   "outputs": [
    {
     "data": {
      "text/plain": [
       "152"
      ]
     },
     "execution_count": 211,
     "metadata": {},
     "output_type": "execute_result"
    }
   ],
   "source": [
    "n_tags_threshold = 600\n",
    "tags_above_threshold = {}\n",
    "\n",
    "for k, v in smaller_tag_freq_dict.items():\n",
    "    tags_above_threshold[k] = v\n",
    "    \n",
    "len(tags_above_threshold)"
   ]
  },
  {
   "cell_type": "code",
   "execution_count": 212,
   "metadata": {},
   "outputs": [
    {
     "data": {
      "text/plain": [
       "(152, 132)"
      ]
     },
     "execution_count": 212,
     "metadata": {},
     "output_type": "execute_result"
    }
   ],
   "source": [
    "tag2idx_small = {}\n",
    "\n",
    "for n, tag in enumerate(tags_above_threshold.keys()):\n",
    "    tag2idx_small[tag] = n\n",
    "    \n",
    "len(tag2idx_small), tag2idx_small['interior']"
   ]
  },
  {
   "cell_type": "code",
   "execution_count": 218,
   "metadata": {},
   "outputs": [],
   "source": [
    "with open(join(project_path, 'tag2idx_small.json'), 'w') as f:\n",
    "    json.dump(tag2idx_small, f)"
   ]
  },
  {
   "cell_type": "code",
   "execution_count": 213,
   "metadata": {},
   "outputs": [],
   "source": [
    "small_train_jsons = join(project_path, 'small_train_jsons')\n",
    "small_val_jsons = join(project_path, 'small_val_jsons')"
   ]
  },
  {
   "cell_type": "code",
   "execution_count": 221,
   "metadata": {},
   "outputs": [
    {
     "name": "stderr",
     "output_type": "stream",
     "text": [
      "100%|██████████| 763/763 [00:04<00:00, 152.66it/s]\n"
     ]
    }
   ],
   "source": [
    "lost_data = 0\n",
    "saved_data = 0\n",
    "\n",
    "val_share = 0.1\n",
    "min_number_of_items = 10\n",
    "\n",
    "for name in tqdm.tqdm(checked_username):\n",
    "\n",
    "    with open(f'{train_jsons}/{name}.json', 'r') as f:\n",
    "        used_usernames_train = json.loads(f.read())\n",
    "    \n",
    "    user_converted_info = {'tags': [], 'photo_file_path': [], 'likes_number': []}\n",
    "    good_idx = []\n",
    "    good_tags_lists = []\n",
    "    \n",
    "    photo_file_path_list = []\n",
    "    likes_number_list = []\n",
    "        \n",
    "    for n, tag_idx_list in enumerate(used_usernames_train[\"tags\"]):\n",
    "        tag_list = [idx2tag[idx] for idx in tag_idx_list]\n",
    "        good_tags = []\n",
    "    \n",
    "        for tag in tag_list:\n",
    "            if tag in senseless_words:\n",
    "                continue\n",
    "    \n",
    "            if tag in converter:\n",
    "                converted = converter[tag]\n",
    "\n",
    "                if type(converted) == str:\n",
    "                    good_tags.append(converted)\n",
    "                else:\n",
    "                    good_tags.extend(converted)\n",
    "            else:\n",
    "                good_tags.append(tag)\n",
    "            \n",
    "        unique_tags = list(set(good_tags))\n",
    "        n_tags = len(unique_tags)\n",
    "            \n",
    "        if n_tags > 0:\n",
    "            good_tags_lists.append(unique_tags)\n",
    "            good_idx.append(n)\n",
    "        else:\n",
    "            lost_data += 1\n",
    "        \n",
    "    for idx in good_idx:\n",
    "        user_converted_info['photo_file_path'].append(used_usernames_train[\"photo_file_path\"][idx])\n",
    "        user_converted_info['likes_number'].append(used_usernames_train[\"likes_number\"][idx])    \n",
    "    \n",
    "    tags_idx_converted_list = [[tag2idx_small[tag] for tag in tag_list] for tag_list in good_tags_lists]\n",
    "    \n",
    "    user_converted_info['tags'].extend(tags_idx_converted_list)\n",
    "    \n",
    "    \n",
    "    with open(f'{val_jsons}/{name}.json', 'r') as f:\n",
    "        used_usernames_val = json.loads(f.read())\n",
    "        \n",
    "    good_idx = []\n",
    "    good_tags_lists = []\n",
    "        \n",
    "    for n, tag_idx_list in enumerate(used_usernames_train[\"tags\"]):\n",
    "        tag_list = [idx2tag[idx] for idx in tag_idx_list]\n",
    "        good_tags = []\n",
    "    \n",
    "        for tag in tag_list:\n",
    "            if tag in senseless_words:\n",
    "                continue\n",
    "    \n",
    "            if tag in converter:\n",
    "                converted = converter[tag]\n",
    "\n",
    "                if type(converted) == str:\n",
    "                    good_tags.append(converted)\n",
    "                else:\n",
    "                    good_tags.extend(converted)\n",
    "            else:\n",
    "                good_tags.append(tag)\n",
    "            \n",
    "        unique_tags = list(set(good_tags))\n",
    "        n_tags = len(unique_tags)\n",
    "            \n",
    "        if n_tags > 0:\n",
    "            good_tags_lists.append(unique_tags)\n",
    "            good_idx.append(n)\n",
    "            lost_data += 1\n",
    "        \n",
    "    for idx in good_idx:\n",
    "        user_converted_info['photo_file_path'].append(used_usernames_train[\"photo_file_path\"][idx])\n",
    "        user_converted_info['likes_number'].append(used_usernames_train[\"likes_number\"][idx])   \n",
    "        \n",
    "    tags_idx_converted_list = [[tag2idx_small[tag] for tag in tag_list] for tag_list in good_tags_lists]\n",
    "    user_converted_info['tags'].extend(tags_idx_converted_list)\n",
    "    \n",
    "    \n",
    "    items_number = len(user_converted_info['likes_number'])\n",
    "    \n",
    "    if items_number < min_number_of_items:\n",
    "        lost_data += 1\n",
    "        continue\n",
    "    \n",
    "    val_unfo = {'tags': [], 'photo_file_path': [], 'likes_number': []}\n",
    "    train_unfo = {'tags': [], 'photo_file_path': [], 'likes_number': []}\n",
    "    \n",
    "    val_samples_number = int(items_number * val_share)\n",
    "    val_idx = np.random.choice(items_number, val_samples_number, replace=False)\n",
    "    \n",
    "    saved_data += items_number\n",
    "    \n",
    "    for idx in range(items_number):\n",
    "        if idx in val_idx:\n",
    "            val_unfo['tags'].append(user_converted_info['tags'][idx])\n",
    "            val_unfo['photo_file_path'].append(user_converted_info['photo_file_path'][idx])\n",
    "            val_unfo['likes_number'].append(user_converted_info['likes_number'][idx])\n",
    "            \n",
    "        else:\n",
    "            train_unfo['tags'].append(user_converted_info['tags'][idx])\n",
    "            train_unfo['photo_file_path'].append(user_converted_info['photo_file_path'][idx])\n",
    "            train_unfo['likes_number'].append(user_converted_info['likes_number'][idx])\n",
    "    \n",
    "    with open(join(small_train_jsons, f'{name}.json'), 'w') as f:\n",
    "        json.dump(train_unfo, f)\n",
    "    \n",
    "    with open(join(small_val_jsons, f'{name}.json'), 'w') as f:\n",
    "        json.dump(val_unfo, f)"
   ]
  },
  {
   "cell_type": "code",
   "execution_count": 222,
   "metadata": {},
   "outputs": [
    {
     "data": {
      "text/plain": [
       "(133045, 264126)"
      ]
     },
     "execution_count": 222,
     "metadata": {},
     "output_type": "execute_result"
    }
   ],
   "source": [
    "lost_data, saved_data"
   ]
  },
  {
   "cell_type": "code",
   "execution_count": null,
   "metadata": {},
   "outputs": [],
   "source": []
  },
  {
   "cell_type": "code",
   "execution_count": 197,
   "metadata": {},
   "outputs": [
    {
     "data": {
      "text/plain": [
       "(9, 83, 92)"
      ]
     },
     "execution_count": 197,
     "metadata": {},
     "output_type": "execute_result"
    }
   ],
   "source": [
    "len(val_unfo['likes_number']), len(train_unfo['likes_number']), len(user_converted_info['likes_number'])"
   ]
  },
  {
   "cell_type": "code",
   "execution_count": null,
   "metadata": {},
   "outputs": [],
   "source": []
  }
 ],
 "metadata": {
  "kernelspec": {
   "display_name": "Environment (conda_pytorch_p36)",
   "language": "python",
   "name": "conda_pytorch_p36"
  },
  "language_info": {
   "codemirror_mode": {
    "name": "ipython",
    "version": 3
   },
   "file_extension": ".py",
   "mimetype": "text/x-python",
   "name": "python",
   "nbconvert_exporter": "python",
   "pygments_lexer": "ipython3",
   "version": "3.6.5"
  }
 },
 "nbformat": 4,
 "nbformat_minor": 2
}
